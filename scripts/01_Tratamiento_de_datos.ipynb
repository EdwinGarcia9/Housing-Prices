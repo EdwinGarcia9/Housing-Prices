{
 "cells": [
  {
   "cell_type": "markdown",
   "metadata": {},
   "source": [
    "# **PROBLEMA DE NEGOCIO**\n",
    "\n",
    "\n",
    "---"
   ]
  },
  {
   "cell_type": "markdown",
   "metadata": {},
   "source": [
    "### DataHouse somos una empresa de tecnología dedicada al rubro de los inmuebles, por medio de nuestros equipos tecnologicos realizamos análisis para empresas dedicadas a bienes raises con el fin de optimizar el performance de las inversion de estos para poder ofrecer ellos en la carterela de servicios un mejor precio a sus clientes según la espectatica de ellos, tenemos presencia en muchos paises de Latam y buscamos crecer para mejorar tanto la experiencia de la compra de tu casa como de tu negocio en bienes y raises buscando optener nuevas aliansas que nos permitan crecer y llegar a mas parte de todos nuestros hermanos latinoamiricanos"
   ]
  },
  {
   "cell_type": "markdown",
   "metadata": {},
   "source": [
    "# **1. Configuración del Ambiente**\n",
    "\n",
    "\n",
    "---"
   ]
  },
  {
   "cell_type": "code",
   "execution_count": 1,
   "metadata": {},
   "outputs": [],
   "source": [
    "import warnings\n",
    "import pandas as pd\n",
    "import numpy as np\n",
    "import matplotlib.pyplot as plt\n",
    "import seaborn as sns"
   ]
  },
  {
   "cell_type": "markdown",
   "metadata": {},
   "source": [
    "# **2. Obtención y Tratamiento de Datos**\n",
    "\n",
    "\n",
    "---\n"
   ]
  },
  {
   "cell_type": "markdown",
   "metadata": {},
   "source": [
    "## **2.1 Cargando las bases de datos**"
   ]
  },
  {
   "cell_type": "code",
   "execution_count": 2,
   "metadata": {},
   "outputs": [
    {
     "data": {
      "text/html": [
       "<div>\n",
       "<style scoped>\n",
       "    .dataframe tbody tr th:only-of-type {\n",
       "        vertical-align: middle;\n",
       "    }\n",
       "\n",
       "    .dataframe tbody tr th {\n",
       "        vertical-align: top;\n",
       "    }\n",
       "\n",
       "    .dataframe thead th {\n",
       "        text-align: right;\n",
       "    }\n",
       "</style>\n",
       "<table border=\"1\" class=\"dataframe\">\n",
       "  <thead>\n",
       "    <tr style=\"text-align: right;\">\n",
       "      <th></th>\n",
       "      <th>Unnamed: 0</th>\n",
       "      <th>price</th>\n",
       "      <th>bed</th>\n",
       "      <th>bath</th>\n",
       "      <th>size(feet)</th>\n",
       "      <th>state</th>\n",
       "    </tr>\n",
       "  </thead>\n",
       "  <tbody>\n",
       "    <tr>\n",
       "      <th>0</th>\n",
       "      <td>0</td>\n",
       "      <td>105000.0</td>\n",
       "      <td>3.0</td>\n",
       "      <td>2.0</td>\n",
       "      <td>920.0</td>\n",
       "      <td>Puerto Rico</td>\n",
       "    </tr>\n",
       "    <tr>\n",
       "      <th>1</th>\n",
       "      <td>1</td>\n",
       "      <td>80000.0</td>\n",
       "      <td>4.0</td>\n",
       "      <td>2.0</td>\n",
       "      <td>1527.0</td>\n",
       "      <td>Puerto Rico</td>\n",
       "    </tr>\n",
       "    <tr>\n",
       "      <th>2</th>\n",
       "      <td>2</td>\n",
       "      <td>67000.0</td>\n",
       "      <td>2.0</td>\n",
       "      <td>1.0</td>\n",
       "      <td>748.0</td>\n",
       "      <td>Puerto Rico</td>\n",
       "    </tr>\n",
       "    <tr>\n",
       "      <th>3</th>\n",
       "      <td>3</td>\n",
       "      <td>145000.0</td>\n",
       "      <td>4.0</td>\n",
       "      <td>2.0</td>\n",
       "      <td>1800.0</td>\n",
       "      <td>Puerto Rico</td>\n",
       "    </tr>\n",
       "    <tr>\n",
       "      <th>4</th>\n",
       "      <td>4</td>\n",
       "      <td>65000.0</td>\n",
       "      <td>6.0</td>\n",
       "      <td>2.0</td>\n",
       "      <td>NaN</td>\n",
       "      <td>Puerto Rico</td>\n",
       "    </tr>\n",
       "    <tr>\n",
       "      <th>5</th>\n",
       "      <td>5</td>\n",
       "      <td>179000.0</td>\n",
       "      <td>4.0</td>\n",
       "      <td>3.0</td>\n",
       "      <td>2520.0</td>\n",
       "      <td>Puerto Rico</td>\n",
       "    </tr>\n",
       "    <tr>\n",
       "      <th>6</th>\n",
       "      <td>6</td>\n",
       "      <td>50000.0</td>\n",
       "      <td>3.0</td>\n",
       "      <td>1.0</td>\n",
       "      <td>2040.0</td>\n",
       "      <td>Puerto Rico</td>\n",
       "    </tr>\n",
       "    <tr>\n",
       "      <th>7</th>\n",
       "      <td>7</td>\n",
       "      <td>71600.0</td>\n",
       "      <td>3.0</td>\n",
       "      <td>2.0</td>\n",
       "      <td>1050.0</td>\n",
       "      <td>Puerto Rico</td>\n",
       "    </tr>\n",
       "    <tr>\n",
       "      <th>8</th>\n",
       "      <td>8</td>\n",
       "      <td>100000.0</td>\n",
       "      <td>2.0</td>\n",
       "      <td>1.0</td>\n",
       "      <td>1092.0</td>\n",
       "      <td>Puerto Rico</td>\n",
       "    </tr>\n",
       "    <tr>\n",
       "      <th>9</th>\n",
       "      <td>9</td>\n",
       "      <td>300000.0</td>\n",
       "      <td>5.0</td>\n",
       "      <td>3.0</td>\n",
       "      <td>5403.0</td>\n",
       "      <td>Puerto Rico</td>\n",
       "    </tr>\n",
       "  </tbody>\n",
       "</table>\n",
       "</div>"
      ],
      "text/plain": [
       "   Unnamed: 0     price  bed  bath  size(feet)        state\n",
       "0           0  105000.0  3.0   2.0       920.0  Puerto Rico\n",
       "1           1   80000.0  4.0   2.0      1527.0  Puerto Rico\n",
       "2           2   67000.0  2.0   1.0       748.0  Puerto Rico\n",
       "3           3  145000.0  4.0   2.0      1800.0  Puerto Rico\n",
       "4           4   65000.0  6.0   2.0         NaN  Puerto Rico\n",
       "5           5  179000.0  4.0   3.0      2520.0  Puerto Rico\n",
       "6           6   50000.0  3.0   1.0      2040.0  Puerto Rico\n",
       "7           7   71600.0  3.0   2.0      1050.0  Puerto Rico\n",
       "8           8  100000.0  2.0   1.0      1092.0  Puerto Rico\n",
       "9           9  300000.0  5.0   3.0      5403.0  Puerto Rico"
      ]
     },
     "execution_count": 2,
     "metadata": {},
     "output_type": "execute_result"
    }
   ],
   "source": [
    "# Leer el archivo CSV comprimido\n",
    "df_usa = pd.read_csv('../data/Data_Final_realE_USA.csv')\n",
    "df_usa.head(10)"
   ]
  },
  {
   "cell_type": "code",
   "execution_count": 3,
   "metadata": {},
   "outputs": [],
   "source": [
    "df_usa['id'] = df_usa['Unnamed: 0']\n",
    "df_usa = df_usa.drop(columns=['Unnamed: 0'])"
   ]
  },
  {
   "cell_type": "markdown",
   "metadata": {},
   "source": [
    "## **2.2 Tratamiento de datos**"
   ]
  },
  {
   "cell_type": "code",
   "execution_count": 4,
   "metadata": {},
   "outputs": [
    {
     "data": {
      "text/plain": [
       "state\n",
       "Florida                 161216\n",
       "Texas                   122172\n",
       "California              101034\n",
       "New York                 71378\n",
       "North Carolina           57129\n",
       "Illinois                 53194\n",
       "Georgia                  51517\n",
       "Pennsylvania             46878\n",
       "Arizona                  37657\n",
       "Ohio                     36660\n",
       "Tennessee                36509\n",
       "Virginia                 35572\n",
       "Michigan                 34786\n",
       "New Jersey               33400\n",
       "South Carolina           30533\n",
       "Missouri                 30057\n",
       "Colorado                 26911\n",
       "Alabama                  26486\n",
       "Washington               25210\n",
       "Minnesota                24541\n",
       "Wisconsin                24313\n",
       "Louisiana                23013\n",
       "Oregon                   20398\n",
       "Maryland                 20349\n",
       "Arkansas                 19013\n",
       "Kentucky                 18615\n",
       "Oklahoma                 18475\n",
       "Indiana                  18279\n",
       "Mississippi              14894\n",
       "Connecticut              13940\n",
       "Iowa                     13875\n",
       "Utah                     13817\n",
       "New Mexico               13168\n",
       "Idaho                    11899\n",
       "Kansas                   10810\n",
       "Nevada                   10394\n",
       "Massachusetts            10189\n",
       "West Virginia             8571\n",
       "Montana                   7296\n",
       "Hawaii                    6994\n",
       "Nebraska                  6118\n",
       "Delaware                  5143\n",
       "Maine                     5062\n",
       "South Dakota              4597\n",
       "North Dakota              4243\n",
       "Wyoming                   4013\n",
       "New Hampshire             3563\n",
       "Rhode Island              3420\n",
       "District of Columbia      2922\n",
       "Puerto Rico               2664\n",
       "Vermont                   2596\n",
       "Alaska                    2581\n",
       "Chicago, CHI              2000\n",
       "Virgin Islands             750\n",
       "Guam                       489\n",
       "New Brunswick                1\n",
       "Name: count, dtype: int64"
      ]
     },
     "execution_count": 4,
     "metadata": {},
     "output_type": "execute_result"
    }
   ],
   "source": [
    "df_usa['state'].value_counts()"
   ]
  },
  {
   "cell_type": "code",
   "execution_count": 5,
   "metadata": {},
   "outputs": [
    {
     "data": {
      "text/html": [
       "<div>\n",
       "<style scoped>\n",
       "    .dataframe tbody tr th:only-of-type {\n",
       "        vertical-align: middle;\n",
       "    }\n",
       "\n",
       "    .dataframe tbody tr th {\n",
       "        vertical-align: top;\n",
       "    }\n",
       "\n",
       "    .dataframe thead th {\n",
       "        text-align: right;\n",
       "    }\n",
       "</style>\n",
       "<table border=\"1\" class=\"dataframe\">\n",
       "  <thead>\n",
       "    <tr style=\"text-align: right;\">\n",
       "      <th></th>\n",
       "      <th>price</th>\n",
       "      <th>bed</th>\n",
       "      <th>bath</th>\n",
       "      <th>size(feet)</th>\n",
       "      <th>state</th>\n",
       "      <th>id</th>\n",
       "    </tr>\n",
       "  </thead>\n",
       "  <tbody>\n",
       "    <tr>\n",
       "      <th>850391</th>\n",
       "      <td>440961.0</td>\n",
       "      <td>4.0</td>\n",
       "      <td>3.0</td>\n",
       "      <td>2907.0</td>\n",
       "      <td>Illinois</td>\n",
       "      <td>850391</td>\n",
       "    </tr>\n",
       "    <tr>\n",
       "      <th>1257011</th>\n",
       "      <td>2600000.0</td>\n",
       "      <td>3.0</td>\n",
       "      <td>1.0</td>\n",
       "      <td>1000.0</td>\n",
       "      <td>California</td>\n",
       "      <td>1257011</td>\n",
       "    </tr>\n",
       "    <tr>\n",
       "      <th>599848</th>\n",
       "      <td>120000.0</td>\n",
       "      <td>NaN</td>\n",
       "      <td>NaN</td>\n",
       "      <td>NaN</td>\n",
       "      <td>Alabama</td>\n",
       "      <td>599848</td>\n",
       "    </tr>\n",
       "    <tr>\n",
       "      <th>229386</th>\n",
       "      <td>1495000.0</td>\n",
       "      <td>3.0</td>\n",
       "      <td>2.0</td>\n",
       "      <td>2176.0</td>\n",
       "      <td>Maryland</td>\n",
       "      <td>229386</td>\n",
       "    </tr>\n",
       "    <tr>\n",
       "      <th>427546</th>\n",
       "      <td>1600000.0</td>\n",
       "      <td>NaN</td>\n",
       "      <td>NaN</td>\n",
       "      <td>NaN</td>\n",
       "      <td>Florida</td>\n",
       "      <td>427546</td>\n",
       "    </tr>\n",
       "    <tr>\n",
       "      <th>1149791</th>\n",
       "      <td>510000.0</td>\n",
       "      <td>3.0</td>\n",
       "      <td>3.0</td>\n",
       "      <td>1998.0</td>\n",
       "      <td>Idaho</td>\n",
       "      <td>1149791</td>\n",
       "    </tr>\n",
       "    <tr>\n",
       "      <th>827497</th>\n",
       "      <td>3000000.0</td>\n",
       "      <td>NaN</td>\n",
       "      <td>NaN</td>\n",
       "      <td>NaN</td>\n",
       "      <td>South Dakota</td>\n",
       "      <td>827497</td>\n",
       "    </tr>\n",
       "    <tr>\n",
       "      <th>686704</th>\n",
       "      <td>418000.0</td>\n",
       "      <td>NaN</td>\n",
       "      <td>NaN</td>\n",
       "      <td>NaN</td>\n",
       "      <td>Ohio</td>\n",
       "      <td>686704</td>\n",
       "    </tr>\n",
       "    <tr>\n",
       "      <th>721978</th>\n",
       "      <td>145000.0</td>\n",
       "      <td>3.0</td>\n",
       "      <td>2.0</td>\n",
       "      <td>2916.0</td>\n",
       "      <td>Indiana</td>\n",
       "      <td>721978</td>\n",
       "    </tr>\n",
       "    <tr>\n",
       "      <th>1179104</th>\n",
       "      <td>409900.0</td>\n",
       "      <td>3.0</td>\n",
       "      <td>3.0</td>\n",
       "      <td>1862.0</td>\n",
       "      <td>Arizona</td>\n",
       "      <td>1179104</td>\n",
       "    </tr>\n",
       "  </tbody>\n",
       "</table>\n",
       "</div>"
      ],
      "text/plain": [
       "             price  bed  bath  size(feet)         state       id\n",
       "850391    440961.0  4.0   3.0      2907.0      Illinois   850391\n",
       "1257011  2600000.0  3.0   1.0      1000.0    California  1257011\n",
       "599848    120000.0  NaN   NaN         NaN       Alabama   599848\n",
       "229386   1495000.0  3.0   2.0      2176.0      Maryland   229386\n",
       "427546   1600000.0  NaN   NaN         NaN       Florida   427546\n",
       "1149791   510000.0  3.0   3.0      1998.0         Idaho  1149791\n",
       "827497   3000000.0  NaN   NaN         NaN  South Dakota   827497\n",
       "686704    418000.0  NaN   NaN         NaN          Ohio   686704\n",
       "721978    145000.0  3.0   2.0      2916.0       Indiana   721978\n",
       "1179104   409900.0  3.0   3.0      1862.0       Arizona  1179104"
      ]
     },
     "execution_count": 5,
     "metadata": {},
     "output_type": "execute_result"
    }
   ],
   "source": [
    "df_usa.sample(10)"
   ]
  },
  {
   "cell_type": "code",
   "execution_count": 6,
   "metadata": {},
   "outputs": [
    {
     "name": "stdout",
     "output_type": "stream",
     "text": [
      "<class 'pandas.core.frame.DataFrame'>\n",
      "RangeIndex: 1391306 entries, 0 to 1391305\n",
      "Data columns (total 6 columns):\n",
      " #   Column      Non-Null Count    Dtype  \n",
      "---  ------      --------------    -----  \n",
      " 0   price       1389774 non-null  float64\n",
      " 1   bed         979905 non-null   float64\n",
      " 2   bath        982530 non-null   float64\n",
      " 3   size(feet)  925535 non-null   float64\n",
      " 4   state       1391304 non-null  object \n",
      " 5   id          1391306 non-null  int64  \n",
      "dtypes: float64(4), int64(1), object(1)\n",
      "memory usage: 63.7+ MB\n",
      "None\n",
      "-------------\n"
     ]
    }
   ],
   "source": [
    "print(df_usa.info())\n",
    "print('-------------')"
   ]
  },
  {
   "cell_type": "code",
   "execution_count": 7,
   "metadata": {},
   "outputs": [],
   "source": [
    "def verificacion(dataframe):\n",
    "  global df_usa\n",
    "    # Verificar valores nulos\n",
    "  print(\"Valores nulos por columna:\")\n",
    "  print(dataframe.isnull().sum())\n",
    "  print(\"\\n\")\n",
    "\n",
    "  # Verificar duplicados\n",
    "  duplicados = dataframe.duplicated()\n",
    "  df_duplicados = dataframe[duplicados]\n",
    "  if not df_duplicados.empty:\n",
    "      print(\"Filas duplicadas:\")\n",
    "      print(df_duplicados)\n",
    "      print(\"\\n\")\n",
    "\n",
    "  # Contar valores únicos en cada columna\n",
    "  print(\"Conteo de valores únicos por columna:\")\n",
    "  for columna in dataframe.columns:\n",
    "      print(f\"Columna '{columna}': {dataframe[columna].nunique()} valores únicos\")\n",
    "      print(f\"Valores únicos en '{columna}':\")\n",
    "      #print(dataframe[columna].unique())\n",
    "      print(\"\\n\")\n",
    "\n",
    "  # Verificar tipos de datos por columna\n",
    "  print(\"\\nTipos de datos por columna:\")\n",
    "  for columna in dataframe.columns:\n",
    "      print(f\"Columna '{columna}': {dataframe[columna].dtype}\")\n",
    "\n",
    "  # Verificar tipos de datos y buscar inconsistencias\n",
    "  for columna in dataframe.select_dtypes(include=['object', 'string']).columns:\n",
    "      print(f\"\\nVerificando inconsistencias en la columna '{columna}':\")\n",
    "      inconsistencias = dataframe[dataframe[columna].apply(lambda x: not all(ord(c) < 128 for c in str(x)))]\n",
    "      if not inconsistencias.empty:\n",
    "          print(inconsistencias)\n",
    "          print(\"\\n\")\n",
    "\n",
    "  #Verificar Nan en todo el dataset\n",
    "  print(\"Valores NaN por columna:\")\n",
    "  df_nan = dataframe[dataframe.isna().any(axis=1)]\n",
    "  print(df_nan.head())\n",
    "  print(\"\\n\")"
   ]
  },
  {
   "cell_type": "code",
   "execution_count": 8,
   "metadata": {},
   "outputs": [],
   "source": [
    "def limpiar_datos(df):\n",
    "    # Eliminar datos duplicados\n",
    "    df = df.drop_duplicates()\n",
    "    \n",
    "    # Eliminar filas con valores nulos\n",
    "    df = df.dropna()\n",
    "    \n",
    "    return df\n"
   ]
  },
  {
   "cell_type": "markdown",
   "metadata": {},
   "source": [
    "### **2.2.1 USA**"
   ]
  },
  {
   "cell_type": "code",
   "execution_count": 9,
   "metadata": {},
   "outputs": [
    {
     "name": "stdout",
     "output_type": "stream",
     "text": [
      "Valores nulos por columna:\n",
      "price           1532\n",
      "bed           411401\n",
      "bath          408776\n",
      "size(feet)    465771\n",
      "state              2\n",
      "id                 0\n",
      "dtype: int64\n",
      "\n",
      "\n",
      "Conteo de valores únicos por columna:\n",
      "Columna 'price': 82818 valores únicos\n",
      "Valores únicos en 'price':\n",
      "\n",
      "\n",
      "Columna 'bed': 97 valores únicos\n",
      "Valores únicos en 'bed':\n",
      "\n",
      "\n",
      "Columna 'bath': 85 valores únicos\n",
      "Valores únicos en 'bath':\n",
      "\n",
      "\n",
      "Columna 'size(feet)': 11523 valores únicos\n",
      "Valores únicos en 'size(feet)':\n",
      "\n",
      "\n",
      "Columna 'state': 56 valores únicos\n",
      "Valores únicos en 'state':\n",
      "\n",
      "\n",
      "Columna 'id': 1391306 valores únicos\n",
      "Valores únicos en 'id':\n",
      "\n",
      "\n",
      "\n",
      "Tipos de datos por columna:\n",
      "Columna 'price': float64\n",
      "Columna 'bed': float64\n",
      "Columna 'bath': float64\n",
      "Columna 'size(feet)': float64\n",
      "Columna 'state': object\n",
      "Columna 'id': int64\n",
      "\n",
      "Verificando inconsistencias en la columna 'state':\n",
      "Valores NaN por columna:\n",
      "       price  bed  bath  size(feet)        state  id\n",
      "4    65000.0  6.0   2.0         NaN  Puerto Rico   4\n",
      "42  400000.0  NaN   NaN     43082.0  Puerto Rico  42\n",
      "43  380000.0  NaN   NaN         NaN  Puerto Rico  43\n",
      "59   35000.0  NaN   NaN         NaN  Puerto Rico  59\n",
      "60   58000.0  NaN   NaN         NaN  Puerto Rico  60\n",
      "\n",
      "\n"
     ]
    }
   ],
   "source": [
    "verificacion(df_usa)"
   ]
  },
  {
   "cell_type": "code",
   "execution_count": 10,
   "metadata": {},
   "outputs": [
    {
     "name": "stdout",
     "output_type": "stream",
     "text": [
      "              price            bed           bath    size(feet)            id\n",
      "count  1.389774e+06  979905.000000  982530.000000  9.255350e+05  1.391306e+06\n",
      "mean   5.476799e+05       3.332009       2.572548  3.340764e+03  6.956525e+05\n",
      "std    2.637942e+06       1.750876       1.938299  1.081637e+06  4.016356e+05\n",
      "min    0.000000e+00       0.000000       0.000000  1.000000e+00  0.000000e+00\n",
      "25%    1.350000e+05       3.000000       2.000000  1.324000e+03  3.478262e+05\n",
      "50%    3.050000e+05       3.000000       2.000000  1.806000e+03  6.956525e+05\n",
      "75%    5.499000e+05       4.000000       3.000000  2.512000e+03  1.043479e+06\n",
      "max    2.147484e+09     473.000000     830.000000  1.040400e+09  1.391305e+06\n"
     ]
    }
   ],
   "source": [
    "# Estadísticas descriptivas\n",
    "print(df_usa.describe())"
   ]
  },
  {
   "cell_type": "code",
   "execution_count": 11,
   "metadata": {},
   "outputs": [
    {
     "data": {
      "image/png": "[encoded data removed]",
      "text/plain": [
       "<Figure size 1000x600 with 1 Axes>"
      ]
     },
     "metadata": {},
     "output_type": "display_data"
    },
    {
     "data": {
      "image/png": "[encoded data removed]",
      "text/plain": [
       "<Figure size 1000x600 with 1 Axes>"
      ]
     },
     "metadata": {},
     "output_type": "display_data"
    }
   ],
   "source": [
    "# Visualización de la distribución del valor de las propiedades\n",
    "plt.figure(figsize=(10, 6))\n",
    "sns.histplot(df_usa['price'], bins=50, kde=True)\n",
    "plt.title('Distribución del Valor de las Propiedades')\n",
    "plt.xlabel('Valor')\n",
    "plt.ylabel('Frecuencia')\n",
    "plt.show()\n",
    "\n",
    "# Visualización de la distribución de habitaciones\n",
    "plt.figure(figsize=(10, 6))\n",
    "sns.countplot(x='bed', data=df_usa)\n",
    "plt.title('Distribución del Número de Restrooms')\n",
    "plt.xlabel('Número de Restroom')\n",
    "plt.ylabel('Frecuencia')\n",
    "plt.show()"
   ]
  },
  {
   "cell_type": "code",
   "execution_count": 12,
   "metadata": {},
   "outputs": [
    {
     "name": "stdout",
     "output_type": "stream",
     "text": [
      "      price  bed  bath  size(feet)        state  id\n",
      "0  105000.0  3.0   2.0       920.0  Puerto Rico   0\n",
      "1   80000.0  4.0   2.0      1527.0  Puerto Rico   1\n",
      "2   67000.0  2.0   1.0       748.0  Puerto Rico   2\n",
      "3  145000.0  4.0   2.0      1800.0  Puerto Rico   3\n",
      "5  179000.0  4.0   3.0      2520.0  Puerto Rico   5\n"
     ]
    }
   ],
   "source": [
    "\n",
    "# Aplicar la función al DataFrame\n",
    "df_usa_clean = limpiar_datos(df_usa)\n",
    "\n",
    "# Mostrar las primeras filas del DataFrame limpio\n",
    "print(df_usa_clean.head())"
   ]
  },
  {
   "cell_type": "code",
   "execution_count": 14,
   "metadata": {},
   "outputs": [
    {
     "name": "stdout",
     "output_type": "stream",
     "text": [
      "price         0\n",
      "bed           0\n",
      "bath          0\n",
      "size(feet)    0\n",
      "state         0\n",
      "id            0\n",
      "dtype: int64\n",
      "              price            bed           bath    size(feet)            id\n",
      "count  9.092580e+05  909258.000000  909258.000000  9.092580e+05  9.092580e+05\n",
      "mean   6.349721e+05       3.318567       2.580093  2.147009e+03  7.111332e+05\n",
      "std    2.885821e+06       1.557444       1.547605  4.962374e+03  4.060730e+05\n",
      "min    0.000000e+00       1.000000       0.000000  4.000000e+00  0.000000e+00\n",
      "25%    2.390000e+05       3.000000       2.000000  1.328000e+03  3.674135e+05\n",
      "50%    3.800000e+05       3.000000       2.000000  1.805000e+03  7.210970e+05\n",
      "75%    6.240000e+05       4.000000       3.000000  2.506000e+03  1.066947e+06\n",
      "max    2.147484e+09     444.000000     460.000000  1.560780e+06  1.391305e+06\n"
     ]
    },
    {
     "data": {
      "image/png": "[encoded data removed]",
      "text/plain": [
       "<Figure size 1000x600 with 1 Axes>"
      ]
     },
     "metadata": {},
     "output_type": "display_data"
    },
    {
     "data": {
      "image/png": "[encoded data removed]",
      "text/plain": [
       "<Figure size 1000x600 with 1 Axes>"
      ]
     },
     "metadata": {},
     "output_type": "display_data"
    }
   ],
   "source": [
    "# Verificar si hay otros valores faltantes\n",
    "print(df_usa_clean.isnull().sum())\n",
    "\n",
    "# Estadísticas descriptivas\n",
    "print(df_usa_clean.describe())\n",
    "\n",
    "# Visualización de la distribución del valor de las propiedades\n",
    "plt.figure(figsize=(10, 6))\n",
    "sns.histplot(df_usa_clean['price'], bins=50, kde=True)\n",
    "plt.title('Distribución del Valor de las Propiedades')\n",
    "plt.xlabel('Valor')\n",
    "plt.ylabel('Frecuencia')\n",
    "plt.show()\n",
    "\n",
    "# Visualización de la distribución de habitaciones\n",
    "plt.figure(figsize=(10, 6))\n",
    "sns.countplot(x='bath', data=df_usa_clean)\n",
    "plt.title('Distribución del Número de baños')\n",
    "plt.xlabel('Número de baños')\n",
    "plt.ylabel('Frecuencia')\n",
    "plt.show()"
   ]
  },
  {
   "cell_type": "code",
   "execution_count": 15,
   "metadata": {},
   "outputs": [
    {
     "name": "stdout",
     "output_type": "stream",
     "text": [
      "<class 'pandas.core.frame.DataFrame'>\n",
      "Index: 909258 entries, 0 to 1391305\n",
      "Data columns (total 6 columns):\n",
      " #   Column      Non-Null Count   Dtype  \n",
      "---  ------      --------------   -----  \n",
      " 0   price       909258 non-null  float64\n",
      " 1   bed         909258 non-null  float64\n",
      " 2   bath        909258 non-null  float64\n",
      " 3   size(feet)  909258 non-null  float64\n",
      " 4   state       909258 non-null  object \n",
      " 5   id          909258 non-null  int64  \n",
      "dtypes: float64(4), int64(1), object(1)\n",
      "memory usage: 48.6+ MB\n"
     ]
    }
   ],
   "source": [
    "df_usa_clean.info()"
   ]
  },
  {
   "cell_type": "code",
   "execution_count": 16,
   "metadata": {},
   "outputs": [
    {
     "name": "stdout",
     "output_type": "stream",
     "text": [
      "Valores nulos por columna:\n",
      "price         0\n",
      "bed           0\n",
      "bath          0\n",
      "size(feet)    0\n",
      "state         0\n",
      "id            0\n",
      "dtype: int64\n",
      "\n",
      "\n",
      "Conteo de valores únicos por columna:\n",
      "Columna 'price': 67286 valores únicos\n",
      "Valores únicos en 'price':\n",
      "\n",
      "\n",
      "Columna 'bed': 85 valores únicos\n",
      "Valores únicos en 'bed':\n",
      "\n",
      "\n",
      "Columna 'bath': 78 valores únicos\n",
      "Valores únicos en 'bath':\n",
      "\n",
      "\n",
      "Columna 'size(feet)': 11013 valores únicos\n",
      "Valores únicos en 'size(feet)':\n",
      "\n",
      "\n",
      "Columna 'state': 55 valores únicos\n",
      "Valores únicos en 'state':\n",
      "\n",
      "\n",
      "Columna 'id': 909258 valores únicos\n",
      "Valores únicos en 'id':\n",
      "\n",
      "\n",
      "\n",
      "Tipos de datos por columna:\n",
      "Columna 'price': float64\n",
      "Columna 'bed': float64\n",
      "Columna 'bath': float64\n",
      "Columna 'size(feet)': float64\n",
      "Columna 'state': object\n",
      "Columna 'id': int64\n",
      "\n",
      "Verificando inconsistencias en la columna 'state':\n",
      "Valores NaN por columna:\n",
      "Empty DataFrame\n",
      "Columns: [price, bed, bath, size(feet), state, id]\n",
      "Index: []\n",
      "\n",
      "\n"
     ]
    }
   ],
   "source": [
    "verificacion(df_usa_clean)"
   ]
  },
  {
   "cell_type": "code",
   "execution_count": 17,
   "metadata": {},
   "outputs": [],
   "source": [
    "df_usa_clean.to_csv('../data/usa_clean.csv', index=False, sep=';')"
   ]
  }
 ],
 "metadata": {
  "kernelspec": {
   "display_name": "Python 3",
   "language": "python",
   "name": "python3"
  },
  "language_info": {
   "codemirror_mode": {
    "name": "ipython",
    "version": 3
   },
   "file_extension": ".py",
   "mimetype": "text/x-python",
   "name": "python",
   "nbconvert_exporter": "python",
   "pygments_lexer": "ipython3",
   "version": "3.11.5"
  }
 },
 "nbformat": 4,
 "nbformat_minor": 2
}
