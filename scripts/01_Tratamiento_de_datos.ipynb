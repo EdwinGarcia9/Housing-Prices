{
 "cells": [
  {
   "cell_type": "markdown",
   "metadata": {},
   "source": [
    "# **PROBLEMA DE NEGOCIO**\n",
    "\n",
    "\n",
    "---"
   ]
  },
  {
   "cell_type": "markdown",
   "metadata": {},
   "source": [
    "### DataHouse somos una empresa de tecnología dedicada al rubro de los inmuebles, por medio de nuestros equipos tecnologicos realizamos análisis para empresas dedicadas a bienes raises con el fin de optimizar el performance de las inversion de estos para poder ofrecer ellos en la carterela de servicios un mejor precio a sus clientes según la espectatica de ellos, tenemos presencia en muchos paises de Latam y buscamos crecer para mejorar tanto la experiencia de la compra de tu casa como de tu negocio en bienes y raises buscando optener nuevas aliansas que nos permitan crecer y llegar a mas parte de todos nuestros hermanos latinoamiricanos"
   ]
  },
  {
   "cell_type": "markdown",
   "metadata": {},
   "source": [
    "# **1. Configuración del Ambiente**\n",
    "\n",
    "\n",
    "---"
   ]
  },
  {
   "cell_type": "code",
   "execution_count": 2,
   "metadata": {},
   "outputs": [],
   "source": [
    "import warnings\n",
    "import pandas as pd\n",
    "import numpy as np\n",
    "import matplotlib.pyplot as plt\n",
    "import seaborn as sns"
   ]
  },
  {
   "cell_type": "markdown",
   "metadata": {},
   "source": [
    "# **2. Obtención y Tratamiento de Datos**\n",
    "\n",
    "\n",
    "---\n"
   ]
  },
  {
   "cell_type": "markdown",
   "metadata": {},
   "source": [
    "## **2.1 Cargando las bases de datos**"
   ]
  },
  {
   "cell_type": "code",
   "execution_count": 3,
   "metadata": {},
   "outputs": [
    {
     "data": {
      "text/html": [
       "<div>\n",
       "<style scoped>\n",
       "    .dataframe tbody tr th:only-of-type {\n",
       "        vertical-align: middle;\n",
       "    }\n",
       "\n",
       "    .dataframe tbody tr th {\n",
       "        vertical-align: top;\n",
       "    }\n",
       "\n",
       "    .dataframe thead th {\n",
       "        text-align: right;\n",
       "    }\n",
       "</style>\n",
       "<table border=\"1\" class=\"dataframe\">\n",
       "  <thead>\n",
       "    <tr style=\"text-align: right;\">\n",
       "      <th></th>\n",
       "      <th>brokered_by</th>\n",
       "      <th>status</th>\n",
       "      <th>price</th>\n",
       "      <th>bed</th>\n",
       "      <th>bath</th>\n",
       "      <th>acre_lot</th>\n",
       "      <th>street</th>\n",
       "      <th>city</th>\n",
       "      <th>state</th>\n",
       "      <th>zip_code</th>\n",
       "      <th>house_size</th>\n",
       "      <th>prev_sold_date</th>\n",
       "    </tr>\n",
       "  </thead>\n",
       "  <tbody>\n",
       "    <tr>\n",
       "      <th>0</th>\n",
       "      <td>103378.0</td>\n",
       "      <td>for_sale</td>\n",
       "      <td>105000.0</td>\n",
       "      <td>3.0</td>\n",
       "      <td>2.0</td>\n",
       "      <td>0.12</td>\n",
       "      <td>1962661.0</td>\n",
       "      <td>Adjuntas</td>\n",
       "      <td>Puerto Rico</td>\n",
       "      <td>601.0</td>\n",
       "      <td>920.0</td>\n",
       "      <td>NaN</td>\n",
       "    </tr>\n",
       "    <tr>\n",
       "      <th>1</th>\n",
       "      <td>52707.0</td>\n",
       "      <td>for_sale</td>\n",
       "      <td>80000.0</td>\n",
       "      <td>4.0</td>\n",
       "      <td>2.0</td>\n",
       "      <td>0.08</td>\n",
       "      <td>1902874.0</td>\n",
       "      <td>Adjuntas</td>\n",
       "      <td>Puerto Rico</td>\n",
       "      <td>601.0</td>\n",
       "      <td>1527.0</td>\n",
       "      <td>NaN</td>\n",
       "    </tr>\n",
       "    <tr>\n",
       "      <th>2</th>\n",
       "      <td>103379.0</td>\n",
       "      <td>for_sale</td>\n",
       "      <td>67000.0</td>\n",
       "      <td>2.0</td>\n",
       "      <td>1.0</td>\n",
       "      <td>0.15</td>\n",
       "      <td>1404990.0</td>\n",
       "      <td>Juana Diaz</td>\n",
       "      <td>Puerto Rico</td>\n",
       "      <td>795.0</td>\n",
       "      <td>748.0</td>\n",
       "      <td>NaN</td>\n",
       "    </tr>\n",
       "    <tr>\n",
       "      <th>3</th>\n",
       "      <td>31239.0</td>\n",
       "      <td>for_sale</td>\n",
       "      <td>145000.0</td>\n",
       "      <td>4.0</td>\n",
       "      <td>2.0</td>\n",
       "      <td>0.10</td>\n",
       "      <td>1947675.0</td>\n",
       "      <td>Ponce</td>\n",
       "      <td>Puerto Rico</td>\n",
       "      <td>731.0</td>\n",
       "      <td>1800.0</td>\n",
       "      <td>NaN</td>\n",
       "    </tr>\n",
       "    <tr>\n",
       "      <th>4</th>\n",
       "      <td>34632.0</td>\n",
       "      <td>for_sale</td>\n",
       "      <td>65000.0</td>\n",
       "      <td>6.0</td>\n",
       "      <td>2.0</td>\n",
       "      <td>0.05</td>\n",
       "      <td>331151.0</td>\n",
       "      <td>Mayaguez</td>\n",
       "      <td>Puerto Rico</td>\n",
       "      <td>680.0</td>\n",
       "      <td>NaN</td>\n",
       "      <td>NaN</td>\n",
       "    </tr>\n",
       "    <tr>\n",
       "      <th>5</th>\n",
       "      <td>103378.0</td>\n",
       "      <td>for_sale</td>\n",
       "      <td>179000.0</td>\n",
       "      <td>4.0</td>\n",
       "      <td>3.0</td>\n",
       "      <td>0.46</td>\n",
       "      <td>1850806.0</td>\n",
       "      <td>San Sebastian</td>\n",
       "      <td>Puerto Rico</td>\n",
       "      <td>612.0</td>\n",
       "      <td>2520.0</td>\n",
       "      <td>NaN</td>\n",
       "    </tr>\n",
       "    <tr>\n",
       "      <th>6</th>\n",
       "      <td>1205.0</td>\n",
       "      <td>for_sale</td>\n",
       "      <td>50000.0</td>\n",
       "      <td>3.0</td>\n",
       "      <td>1.0</td>\n",
       "      <td>0.20</td>\n",
       "      <td>1298094.0</td>\n",
       "      <td>Ciales</td>\n",
       "      <td>Puerto Rico</td>\n",
       "      <td>639.0</td>\n",
       "      <td>2040.0</td>\n",
       "      <td>NaN</td>\n",
       "    </tr>\n",
       "    <tr>\n",
       "      <th>7</th>\n",
       "      <td>50739.0</td>\n",
       "      <td>for_sale</td>\n",
       "      <td>71600.0</td>\n",
       "      <td>3.0</td>\n",
       "      <td>2.0</td>\n",
       "      <td>0.08</td>\n",
       "      <td>1048466.0</td>\n",
       "      <td>Ponce</td>\n",
       "      <td>Puerto Rico</td>\n",
       "      <td>731.0</td>\n",
       "      <td>1050.0</td>\n",
       "      <td>NaN</td>\n",
       "    </tr>\n",
       "    <tr>\n",
       "      <th>8</th>\n",
       "      <td>81909.0</td>\n",
       "      <td>for_sale</td>\n",
       "      <td>100000.0</td>\n",
       "      <td>2.0</td>\n",
       "      <td>1.0</td>\n",
       "      <td>0.09</td>\n",
       "      <td>734904.0</td>\n",
       "      <td>Ponce</td>\n",
       "      <td>Puerto Rico</td>\n",
       "      <td>730.0</td>\n",
       "      <td>1092.0</td>\n",
       "      <td>NaN</td>\n",
       "    </tr>\n",
       "    <tr>\n",
       "      <th>9</th>\n",
       "      <td>65672.0</td>\n",
       "      <td>for_sale</td>\n",
       "      <td>300000.0</td>\n",
       "      <td>5.0</td>\n",
       "      <td>3.0</td>\n",
       "      <td>7.46</td>\n",
       "      <td>1946226.0</td>\n",
       "      <td>Las Marias</td>\n",
       "      <td>Puerto Rico</td>\n",
       "      <td>670.0</td>\n",
       "      <td>5403.0</td>\n",
       "      <td>NaN</td>\n",
       "    </tr>\n",
       "  </tbody>\n",
       "</table>\n",
       "</div>"
      ],
      "text/plain": [
       "   brokered_by    status     price  bed  bath  acre_lot     street  \\\n",
       "0     103378.0  for_sale  105000.0  3.0   2.0      0.12  1962661.0   \n",
       "1      52707.0  for_sale   80000.0  4.0   2.0      0.08  1902874.0   \n",
       "2     103379.0  for_sale   67000.0  2.0   1.0      0.15  1404990.0   \n",
       "3      31239.0  for_sale  145000.0  4.0   2.0      0.10  1947675.0   \n",
       "4      34632.0  for_sale   65000.0  6.0   2.0      0.05   331151.0   \n",
       "5     103378.0  for_sale  179000.0  4.0   3.0      0.46  1850806.0   \n",
       "6       1205.0  for_sale   50000.0  3.0   1.0      0.20  1298094.0   \n",
       "7      50739.0  for_sale   71600.0  3.0   2.0      0.08  1048466.0   \n",
       "8      81909.0  for_sale  100000.0  2.0   1.0      0.09   734904.0   \n",
       "9      65672.0  for_sale  300000.0  5.0   3.0      7.46  1946226.0   \n",
       "\n",
       "            city        state  zip_code  house_size prev_sold_date  \n",
       "0       Adjuntas  Puerto Rico     601.0       920.0            NaN  \n",
       "1       Adjuntas  Puerto Rico     601.0      1527.0            NaN  \n",
       "2     Juana Diaz  Puerto Rico     795.0       748.0            NaN  \n",
       "3          Ponce  Puerto Rico     731.0      1800.0            NaN  \n",
       "4       Mayaguez  Puerto Rico     680.0         NaN            NaN  \n",
       "5  San Sebastian  Puerto Rico     612.0      2520.0            NaN  \n",
       "6         Ciales  Puerto Rico     639.0      2040.0            NaN  \n",
       "7          Ponce  Puerto Rico     731.0      1050.0            NaN  \n",
       "8          Ponce  Puerto Rico     730.0      1092.0            NaN  \n",
       "9     Las Marias  Puerto Rico     670.0      5403.0            NaN  "
      ]
     },
     "execution_count": 3,
     "metadata": {},
     "output_type": "execute_result"
    }
   ],
   "source": [
    "# Leer el archivo CSV comprimido\n",
    "df_usa = pd.read_csv('../data/real_state_usa_compressed.csv.gz', compression='gzip', sep=';')\n",
    "df_usa.head(10)"
   ]
  },
  {
   "cell_type": "markdown",
   "metadata": {},
   "source": [
    "## **2.2 Tratamiento de datos**"
   ]
  },
  {
   "cell_type": "code",
   "execution_count": 4,
   "metadata": {},
   "outputs": [
    {
     "name": "stdout",
     "output_type": "stream",
     "text": [
      "<class 'pandas.core.frame.DataFrame'>\n",
      "RangeIndex: 2226382 entries, 0 to 2226381\n",
      "Data columns (total 12 columns):\n",
      " #   Column          Dtype  \n",
      "---  ------          -----  \n",
      " 0   brokered_by     float64\n",
      " 1   status          object \n",
      " 2   price           float64\n",
      " 3   bed             float64\n",
      " 4   bath            float64\n",
      " 5   acre_lot        float64\n",
      " 6   street          float64\n",
      " 7   city            object \n",
      " 8   state           object \n",
      " 9   zip_code        float64\n",
      " 10  house_size      float64\n",
      " 11  prev_sold_date  object \n",
      "dtypes: float64(8), object(4)\n",
      "memory usage: 203.8+ MB\n",
      "None\n",
      "-------------\n"
     ]
    }
   ],
   "source": [
    "print(df_usa.info())\n",
    "print('-------------')"
   ]
  },
  {
   "cell_type": "code",
   "execution_count": 5,
   "metadata": {},
   "outputs": [],
   "source": [
    "def verificacion(dataframe):\n",
    "  global df_usa\n",
    "    # Verificar valores nulos\n",
    "  print(\"Valores nulos por columna:\")\n",
    "  print(dataframe.isnull().sum())\n",
    "  print(\"\\n\")\n",
    "\n",
    "  # Verificar duplicados\n",
    "  duplicados = dataframe.duplicated()\n",
    "  df_duplicados = dataframe[duplicados]\n",
    "  if not df_duplicados.empty:\n",
    "      print(\"Filas duplicadas:\")\n",
    "      print(df_duplicados)\n",
    "      print(\"\\n\")\n",
    "\n",
    "  # Contar valores únicos en cada columna\n",
    "  print(\"Conteo de valores únicos por columna:\")\n",
    "  for columna in dataframe.columns:\n",
    "      print(f\"Columna '{columna}': {dataframe[columna].nunique()} valores únicos\")\n",
    "      print(f\"Valores únicos en '{columna}':\")\n",
    "      #print(dataframe[columna].unique())\n",
    "      print(\"\\n\")\n",
    "\n",
    "  # Verificar tipos de datos por columna\n",
    "  print(\"\\nTipos de datos por columna:\")\n",
    "  for columna in dataframe.columns:\n",
    "      print(f\"Columna '{columna}': {dataframe[columna].dtype}\")\n",
    "\n",
    "  # Verificar tipos de datos y buscar inconsistencias\n",
    "  for columna in dataframe.select_dtypes(include=['object', 'string']).columns:\n",
    "      print(f\"\\nVerificando inconsistencias en la columna '{columna}':\")\n",
    "      inconsistencias = dataframe[dataframe[columna].apply(lambda x: not all(ord(c) < 128 for c in str(x)))]\n",
    "      if not inconsistencias.empty:\n",
    "          print(inconsistencias)\n",
    "          print(\"\\n\")\n",
    "\n",
    "  #Verificar Nan en todo el dataset\n",
    "  print(\"Valores NaN por columna:\")\n",
    "  df_nan = dataframe[dataframe.isna().any(axis=1)]\n",
    "  print(df_nan.head())\n",
    "  print(\"\\n\")"
   ]
  },
  {
   "cell_type": "code",
   "execution_count": 6,
   "metadata": {},
   "outputs": [],
   "source": [
    "def limpiar_datos(df):\n",
    "    # Eliminar datos duplicados\n",
    "    df = df.drop_duplicates()\n",
    "    \n",
    "    # Eliminar filas con valores nulos\n",
    "    df = df.dropna()\n",
    "    \n",
    "    return df\n"
   ]
  },
  {
   "cell_type": "markdown",
   "metadata": {},
   "source": [
    "### **2.2.1 Colombia Bógota**"
   ]
  },
  {
   "cell_type": "code",
   "execution_count": 7,
   "metadata": {},
   "outputs": [
    {
     "name": "stdout",
     "output_type": "stream",
     "text": [
      "Valores nulos por columna:\n",
      "brokered_by         4533\n",
      "status                 0\n",
      "price               1541\n",
      "bed               481317\n",
      "bath              511771\n",
      "acre_lot          325589\n",
      "street             10866\n",
      "city                1407\n",
      "state                  8\n",
      "zip_code             299\n",
      "house_size        568484\n",
      "prev_sold_date    734297\n",
      "dtype: int64\n",
      "\n",
      "\n",
      "Conteo de valores únicos por columna:\n",
      "Columna 'brokered_by': 110143 valores únicos\n",
      "Valores únicos en 'brokered_by':\n",
      "\n",
      "\n",
      "Columna 'status': 3 valores únicos\n",
      "Valores únicos en 'status':\n",
      "\n",
      "\n",
      "Columna 'price': 102137 valores únicos\n",
      "Valores únicos en 'price':\n",
      "\n",
      "\n",
      "Columna 'bed': 99 valores únicos\n",
      "Valores únicos en 'bed':\n",
      "\n",
      "\n",
      "Columna 'bath': 86 valores únicos\n",
      "Valores únicos en 'bath':\n",
      "\n",
      "\n",
      "Columna 'acre_lot': 16057 valores únicos\n",
      "Valores únicos en 'acre_lot':\n",
      "\n",
      "\n",
      "Columna 'street': 2001358 valores únicos\n",
      "Valores únicos en 'street':\n",
      "\n",
      "\n",
      "Columna 'city': 20098 valores únicos\n",
      "Valores únicos en 'city':\n",
      "\n",
      "\n",
      "Columna 'state': 55 valores únicos\n",
      "Valores únicos en 'state':\n",
      "\n",
      "\n",
      "Columna 'zip_code': 30334 valores únicos\n",
      "Valores únicos en 'zip_code':\n",
      "\n",
      "\n",
      "Columna 'house_size': 12061 valores únicos\n",
      "Valores únicos en 'house_size':\n",
      "\n",
      "\n",
      "Columna 'prev_sold_date': 14954 valores únicos\n",
      "Valores únicos en 'prev_sold_date':\n",
      "\n",
      "\n",
      "\n",
      "Tipos de datos por columna:\n",
      "Columna 'brokered_by': float64\n",
      "Columna 'status': object\n",
      "Columna 'price': float64\n",
      "Columna 'bed': float64\n",
      "Columna 'bath': float64\n",
      "Columna 'acre_lot': float64\n",
      "Columna 'street': float64\n",
      "Columna 'city': object\n",
      "Columna 'state': object\n",
      "Columna 'zip_code': float64\n",
      "Columna 'house_size': float64\n",
      "Columna 'prev_sold_date': object\n",
      "\n",
      "Verificando inconsistencias en la columna 'status':\n",
      "\n",
      "Verificando inconsistencias en la columna 'city':\n",
      "      brokered_by    status     price  bed  bath  acre_lot     street  \\\n",
      "821       52707.0  for_sale  335000.0  NaN   NaN      3.19  1856977.0   \n",
      "1137       1205.0  for_sale   65000.0  3.0   3.0      0.07  1868589.0   \n",
      "1193      33009.0  for_sale  165000.0  6.0   3.0      0.09  1984068.0   \n",
      "1253      52707.0  for_sale  495000.0  5.0   3.0      0.37  1902810.0   \n",
      "\n",
      "         city        state  zip_code  house_size prev_sold_date  \n",
      "821    Manatí  Puerto Rico     674.0         NaN            NaN  \n",
      "1137  Bayamón  Puerto Rico     959.0      1115.0            NaN  \n",
      "1193  Bayamón  Puerto Rico     959.0      1764.0            NaN  \n",
      "1253  Bayamón  Puerto Rico     957.0      3154.0            NaN  \n",
      "\n",
      "\n",
      "\n",
      "Verificando inconsistencias en la columna 'state':\n",
      "\n",
      "Verificando inconsistencias en la columna 'prev_sold_date':\n",
      "Valores NaN por columna:\n",
      "   brokered_by    status     price  bed  bath  acre_lot     street  \\\n",
      "0     103378.0  for_sale  105000.0  3.0   2.0      0.12  1962661.0   \n",
      "1      52707.0  for_sale   80000.0  4.0   2.0      0.08  1902874.0   \n",
      "2     103379.0  for_sale   67000.0  2.0   1.0      0.15  1404990.0   \n",
      "3      31239.0  for_sale  145000.0  4.0   2.0      0.10  1947675.0   \n",
      "4      34632.0  for_sale   65000.0  6.0   2.0      0.05   331151.0   \n",
      "\n",
      "         city        state  zip_code  house_size prev_sold_date  \n",
      "0    Adjuntas  Puerto Rico     601.0       920.0            NaN  \n",
      "1    Adjuntas  Puerto Rico     601.0      1527.0            NaN  \n",
      "2  Juana Diaz  Puerto Rico     795.0       748.0            NaN  \n",
      "3       Ponce  Puerto Rico     731.0      1800.0            NaN  \n",
      "4    Mayaguez  Puerto Rico     680.0         NaN            NaN  \n",
      "\n",
      "\n"
     ]
    }
   ],
   "source": [
    "verificacion(df_usa)"
   ]
  },
  {
   "cell_type": "code",
   "execution_count": 8,
   "metadata": {},
   "outputs": [
    {
     "name": "stdout",
     "output_type": "stream",
     "text": [
      "        brokered_by         price           bed          bath      acre_lot  \\\n",
      "count  2.221849e+06  2.224841e+06  1.745065e+06  1.714611e+06  1.900793e+06   \n",
      "mean   5.293989e+04  5.241955e+05  3.275841e+00  2.496440e+00  1.522303e+01   \n",
      "std    3.064275e+04  2.138893e+06  1.567274e+00  1.652573e+00  7.628238e+02   \n",
      "min    0.000000e+00  0.000000e+00  1.000000e+00  1.000000e+00  0.000000e+00   \n",
      "25%    2.386100e+04  1.650000e+05  3.000000e+00  2.000000e+00  1.500000e-01   \n",
      "50%    5.288400e+04  3.250000e+05  3.000000e+00  2.000000e+00  2.600000e-01   \n",
      "75%    7.918300e+04  5.500000e+05  4.000000e+00  3.000000e+00  9.800000e-01   \n",
      "max    1.101420e+05  2.147484e+09  4.730000e+02  8.300000e+02  1.000000e+05   \n",
      "\n",
      "             street      zip_code    house_size  \n",
      "count  2.215516e+06  2.226083e+06  1.657898e+06  \n",
      "mean   1.012325e+06  5.218668e+04  2.714471e+03  \n",
      "std    5.837635e+05  2.895408e+04  8.081635e+05  \n",
      "min    0.000000e+00  0.000000e+00  4.000000e+00  \n",
      "25%    5.063128e+05  2.961700e+04  1.300000e+03  \n",
      "50%    1.012766e+06  4.838200e+04  1.760000e+03  \n",
      "75%    1.521173e+06  7.807000e+04  2.413000e+03  \n",
      "max    2.001357e+06  9.999900e+04  1.040400e+09  \n"
     ]
    }
   ],
   "source": [
    "# Estadísticas descriptivas\n",
    "print(df_usa.describe())"
   ]
  },
  {
   "cell_type": "code",
   "execution_count": 9,
   "metadata": {},
   "outputs": [
    {
     "name": "stderr",
     "output_type": "stream",
     "text": [
      "C:\\Users\\eddwi\\AppData\\Roaming\\Python\\Python310\\site-packages\\seaborn\\_oldcore.py:1119: FutureWarning: use_inf_as_na option is deprecated and will be removed in a future version. Convert inf values to NaN before operating instead.\n",
      "  with pd.option_context('mode.use_inf_as_na', True):\n"
     ]
    },
    {
     "data": {
      "image/png": "[encoded data removed]",
      "text/plain": [
       "<Figure size 1000x600 with 1 Axes>"
      ]
     },
     "metadata": {},
     "output_type": "display_data"
    },
    {
     "data": {
      "image/png": "[encoded data removed]",
      "text/plain": [
       "<Figure size 1000x600 with 1 Axes>"
      ]
     },
     "metadata": {},
     "output_type": "display_data"
    }
   ],
   "source": [
    "# Visualización de la distribución del valor de las propiedades\n",
    "plt.figure(figsize=(10, 6))\n",
    "sns.histplot(df_usa['price'], bins=50, kde=True)\n",
    "plt.title('Distribución del Valor de las Propiedades')\n",
    "plt.xlabel('Valor')\n",
    "plt.ylabel('Frecuencia')\n",
    "plt.show()\n",
    "\n",
    "# Visualización de la distribución de habitaciones\n",
    "plt.figure(figsize=(10, 6))\n",
    "sns.countplot(x='bed', data=df_usa)\n",
    "plt.title('Distribución del Número de Restrooms')\n",
    "plt.xlabel('Número de Restroom')\n",
    "plt.ylabel('Frecuencia')\n",
    "plt.show()"
   ]
  },
  {
   "cell_type": "code",
   "execution_count": 29,
   "metadata": {},
   "outputs": [
    {
     "name": "stdout",
     "output_type": "stream",
     "text": [
      "          Tipo                                 Descripcion  Habitaciones  \\\n",
      "0  Apartamento  Apartamento en venta en Zona Noroccidental             3   \n",
      "1         Casa                   Casa en venta en Castilla             4   \n",
      "2  Apartamento     Apartamento en venta en Chico Reservado             3   \n",
      "3  Apartamento             Apartamento en venta en Usaquén             3   \n",
      "4  Apartamento         Apartamento en venta en Bella Suiza             2   \n",
      "\n",
      "   Baños  Área              Barrio                                    UPZ  \\\n",
      "0      2    70  Zona Noroccidental     CHAPINERO: Pardo Rubio + Chapinero   \n",
      "1      3   170            Castilla            KENNEDY: Castilla + Bavaria   \n",
      "2      3   144     Chico Reservado     CHAPINERO: Chicó Lago + El Refugio   \n",
      "3      2   154             Usaquén                                Usaquén   \n",
      "4      3   128         Bella Suiza  USAQUÉN: Country Club + Santa Bárbara   \n",
      "\n",
      "             Valor  \n",
      "0    $ 360.000.000  \n",
      "1    $ 670.000.000  \n",
      "2  $ 1.120.000.000  \n",
      "3    $ 890.000.000  \n",
      "4    $ 970.000.000  \n"
     ]
    }
   ],
   "source": [
    "\n",
    "# Aplicar la función al DataFrame\n",
    "df_colombia_bogota_limpio = limpiar_datos(df_colombia_bogota)\n",
    "\n",
    "# Mostrar las primeras filas del DataFrame limpio\n",
    "print(df_colombia_bogota_limpio.head())"
   ]
  },
  {
   "cell_type": "markdown",
   "metadata": {},
   "source": [
    "#### **Se decidio borrar UPZ porque consideramos que con la columna Barrio estaba mas que explicada la localización de las propiedades no obstante aún esta sujeto a cambios**"
   ]
  },
  {
   "cell_type": "code",
   "execution_count": 30,
   "metadata": {},
   "outputs": [],
   "source": [
    "# Eliminar la columna 'UPZ'\n",
    "df_colombia_bogota_limpio.drop(columns=['UPZ'], inplace=True)"
   ]
  },
  {
   "cell_type": "code",
   "execution_count": 31,
   "metadata": {},
   "outputs": [
    {
     "name": "stdout",
     "output_type": "stream",
     "text": [
      "          Tipo                                 Descripcion  Habitaciones  \\\n",
      "0  Apartamento  Apartamento en venta en Zona Noroccidental             3   \n",
      "1         Casa                   Casa en venta en Castilla             4   \n",
      "2  Apartamento     Apartamento en venta en Chico Reservado             3   \n",
      "3  Apartamento             Apartamento en venta en Usaquén             3   \n",
      "4  Apartamento         Apartamento en venta en Bella Suiza             2   \n",
      "\n",
      "   Baños  Área              Barrio         Valor  \n",
      "0      2    70  Zona Noroccidental  3.600000e+08  \n",
      "1      3   170            Castilla  6.700000e+08  \n",
      "2      3   144     Chico Reservado  1.120000e+09  \n",
      "3      2   154             Usaquén  8.900000e+08  \n",
      "4      3   128         Bella Suiza  9.700000e+08  \n"
     ]
    }
   ],
   "source": [
    "# Función para limpiar y convertir la columna 'Valor'\n",
    "def limpiar_valor(valor):\n",
    "    valor_limpio = valor.replace('$', '').replace('COP', '').replace('.', '').replace(',', '')\n",
    "    \n",
    "    # Convertir a float\n",
    "    return float(valor_limpio)\n",
    "\n",
    "# Supongamos que df_colombia_bogota ya está cargado\n",
    "\n",
    "# Aplicar la función a la columna 'Valor'\n",
    "df_colombia_bogota_limpio['Valor'] = df_colombia_bogota_limpio['Valor'].apply(limpiar_valor)\n",
    "# Verificar las primeras filas después de la conversión\n",
    "print(df_colombia_bogota_limpio.head())"
   ]
  },
  {
   "cell_type": "code",
   "execution_count": 32,
   "metadata": {},
   "outputs": [
    {
     "name": "stdout",
     "output_type": "stream",
     "text": [
      "<class 'pandas.core.frame.DataFrame'>\n",
      "Index: 5918 entries, 0 to 9519\n",
      "Data columns (total 7 columns):\n",
      " #   Column        Non-Null Count  Dtype  \n",
      "---  ------        --------------  -----  \n",
      " 0   Tipo          5918 non-null   object \n",
      " 1   Descripcion   5918 non-null   object \n",
      " 2   Habitaciones  5918 non-null   int64  \n",
      " 3   Baños         5918 non-null   int64  \n",
      " 4   Área          5918 non-null   int64  \n",
      " 5   Barrio        5918 non-null   object \n",
      " 6   Valor         5918 non-null   float64\n",
      "dtypes: float64(1), int64(3), object(3)\n",
      "memory usage: 369.9+ KB\n"
     ]
    }
   ],
   "source": [
    "df_colombia_bogota_limpio.info()"
   ]
  },
  {
   "cell_type": "code",
   "execution_count": 33,
   "metadata": {},
   "outputs": [
    {
     "name": "stdout",
     "output_type": "stream",
     "text": [
      "Tipo            0\n",
      "Descripcion     0\n",
      "Habitaciones    0\n",
      "Baños           0\n",
      "Área            0\n",
      "Barrio          0\n",
      "Valor           0\n",
      "dtype: int64\n",
      "       Habitaciones        Baños           Área         Valor\n",
      "count   5918.000000  5918.000000    5918.000000  5.918000e+03\n",
      "mean       3.161372     2.545624     166.018080  6.550196e+08\n",
      "std        2.316691     1.294754    2180.835312  7.668709e+08\n",
      "min        1.000000     0.000000       2.000000  6.000000e+07\n",
      "25%        2.000000     2.000000      60.000000  2.741500e+08\n",
      "50%        3.000000     2.000000      87.000000  4.485000e+08\n",
      "75%        3.000000     3.000000     152.000000  7.500000e+08\n",
      "max      110.000000     9.000000  166243.000000  1.600000e+10\n"
     ]
    },
    {
     "name": "stderr",
     "output_type": "stream",
     "text": [
      "C:\\Users\\eddwi\\AppData\\Roaming\\Python\\Python310\\site-packages\\seaborn\\_oldcore.py:1119: FutureWarning: use_inf_as_na option is deprecated and will be removed in a future version. Convert inf values to NaN before operating instead.\n",
      "  with pd.option_context('mode.use_inf_as_na', True):\n"
     ]
    },
    {
     "data": {
      "image/png": "[encoded data removed]",
      "text/plain": [
       "<Figure size 1000x600 with 1 Axes>"
      ]
     },
     "metadata": {},
     "output_type": "display_data"
    },
    {
     "data": {
      "image/png": "[encoded data removed]",
      "text/plain": [
       "<Figure size 1000x600 with 1 Axes>"
      ]
     },
     "metadata": {},
     "output_type": "display_data"
    }
   ],
   "source": [
    "# Verificar si hay otros valores faltantes\n",
    "print(df_colombia_bogota_limpio.isnull().sum())\n",
    "\n",
    "# Estadísticas descriptivas\n",
    "print(df_colombia_bogota_limpio.describe())\n",
    "\n",
    "# Visualización de la distribución del valor de las propiedades\n",
    "plt.figure(figsize=(10, 6))\n",
    "sns.histplot(df_colombia_bogota_limpio['Valor'], bins=50, kde=True)\n",
    "plt.title('Distribución del Valor de las Propiedades')\n",
    "plt.xlabel('Valor')\n",
    "plt.ylabel('Frecuencia')\n",
    "plt.show()\n",
    "\n",
    "# Visualización de la distribución de habitaciones\n",
    "plt.figure(figsize=(10, 6))\n",
    "sns.countplot(x='Habitaciones', data=df_colombia_bogota_limpio)\n",
    "plt.title('Distribución del Número de Habitaciones')\n",
    "plt.xlabel('Número de Habitaciones')\n",
    "plt.ylabel('Frecuencia')\n",
    "plt.show()"
   ]
  },
  {
   "cell_type": "code",
   "execution_count": 34,
   "metadata": {},
   "outputs": [
    {
     "name": "stdout",
     "output_type": "stream",
     "text": [
      "          Tipo                                 Descripcion  Habitaciones  \\\n",
      "0  Apartamento  Apartamento en venta en Zona Noroccidental             3   \n",
      "1         Casa                   Casa en venta en Castilla             4   \n",
      "2  Apartamento     Apartamento en venta en Chico Reservado             3   \n",
      "3  Apartamento             Apartamento en venta en Usaquén             3   \n",
      "4  Apartamento         Apartamento en venta en Bella Suiza             2   \n",
      "\n",
      "   Baños  Área              Barrio         Valor  Valor_USD  \n",
      "0      2    70  Zona Noroccidental  3.600000e+08   93240.09  \n",
      "1      3   170            Castilla  6.700000e+08  173530.17  \n",
      "2      3   144     Chico Reservado  1.120000e+09  290080.29  \n",
      "3      2   154             Usaquén  8.900000e+08  230510.23  \n",
      "4      3   128         Bella Suiza  9.700000e+08  251230.25  \n"
     ]
    }
   ],
   "source": [
    "# Tasa de cambio\n",
    "tasa_cambio_cop_usd = 3861.00\n",
    "\n",
    "# Crear una nueva columna 'Valor_USD' a partir de 'Valor'\n",
    "df_colombia_bogota_limpio['Valor_USD'] = df_colombia_bogota_limpio['Valor'] / tasa_cambio_cop_usd\n",
    "# Redondear la columna 'Valor_USD' a dos decimales\n",
    "df_colombia_bogota_limpio['Valor_USD'] = df_colombia_bogota_limpio['Valor_USD'].round(2)\n",
    "\n",
    "# Verificar las primeras filas después de agregar la columna 'Valor_USD'\n",
    "print(df_colombia_bogota_limpio.head())"
   ]
  },
  {
   "cell_type": "code",
   "execution_count": 35,
   "metadata": {},
   "outputs": [
    {
     "name": "stdout",
     "output_type": "stream",
     "text": [
      "<class 'pandas.core.frame.DataFrame'>\n",
      "Index: 5918 entries, 0 to 9519\n",
      "Data columns (total 8 columns):\n",
      " #   Column        Non-Null Count  Dtype  \n",
      "---  ------        --------------  -----  \n",
      " 0   Tipo          5918 non-null   object \n",
      " 1   Descripcion   5918 non-null   object \n",
      " 2   Habitaciones  5918 non-null   int64  \n",
      " 3   Baños         5918 non-null   int64  \n",
      " 4   Área          5918 non-null   int64  \n",
      " 5   Barrio        5918 non-null   object \n",
      " 6   Valor         5918 non-null   float64\n",
      " 7   Valor_USD     5918 non-null   float64\n",
      "dtypes: float64(2), int64(3), object(3)\n",
      "memory usage: 416.1+ KB\n"
     ]
    }
   ],
   "source": [
    "df_colombia_bogota_limpio.info()"
   ]
  },
  {
   "cell_type": "code",
   "execution_count": 36,
   "metadata": {},
   "outputs": [
    {
     "name": "stdout",
     "output_type": "stream",
     "text": [
      "['Zona Noroccidental' 'Castilla' 'Chico Reservado' 'Usaquén' 'Bella Suiza'\n",
      " 'El Chicó' 'Tintala' 'Marly' 'Kennedy' 'Nicolas De Federman' 'La Calleja'\n",
      " 'Mazuren' 'Suba' 'Barrios Unidos' 'Engativa' 'Fontibón' 'Villa Alsacia'\n",
      " 'Palermo' 'La Candelaria' 'El Contador' 'El Batán' 'Santa Barbara'\n",
      " 'Mirandela ' 'Cedritos' 'Colina Campestre' 'Hayuelos' 'Ciudad Salitre'\n",
      " 'Quinta Paredes' 'Candelaria La Nueva' 'Chico Norte' 'Normandia'\n",
      " 'Ciudad Bolívar' 'Bosa' 'Rafael Uribe Uribe' 'Las Villas' 'Modelia'\n",
      " 'San Patricio' 'Barrancas' 'Teusaquillo' 'Puente Aranda' 'Chapinero'\n",
      " 'Usme' 'Nueva Zelandia' 'Madelena' 'El Plan' 'Santa Paula' 'Villemar'\n",
      " 'Santa Fe' 'Antonio Nariño' 'La Uribe' 'Los Rosales' 'Chapinero Central'\n",
      " 'Los Mártires' 'Bogotá D.C' 'San Cristobal' 'Boyaca ' 'Timiza'\n",
      " 'Gran America' 'Costa Azul' 'Gran Granada' 'La Salle'\n",
      " 'Portales Del Norte' 'Cantagallo' 'Ciudad Berna' 'Villas De Granada'\n",
      " 'Santa Teresa' 'Eduardo Santos' 'Florida Blanca' 'Metropolis' 'Galicia'\n",
      " 'Villa Maria' 'Puente Largo' 'La Estancia' 'Sotavento' 'Bosque De Pinos'\n",
      " 'Florencia' 'Bochica' 'Tunjuelito' 'El Salitre' 'La Granja' 'La Soledad '\n",
      " 'Santa Ana' 'Capellania' 'Bellavista Occidental' 'Alhambra' 'Veraguas'\n",
      " 'El Retiro' 'El Refugio' 'Pontevedra ' 'Lagos De Cordoba'\n",
      " 'Parque Central Bavaria' 'San Luis' 'Quinta Camacho' 'Nueva Autopista'\n",
      " 'Casablanca' 'Las Nieves' 'La Macarena' 'Bosque Popular'\n",
      " 'Ciudadela Colsubsidio' 'San Antonio Norte' 'Chapinero Alto' 'Salitre '\n",
      " 'Chico Navarra' 'Buenos Aires' 'Ricaurte' 'Restrepo' 'Las Aguas'\n",
      " 'Chico Norte Ii' 'Niza' 'Pinar De Suba' 'Estrada' 'El Virrey'\n",
      " 'Colinas De Suba' 'Gustavo Restrepo' 'Nueva Castilla' 'Quirigua'\n",
      " 'Los Lagartos' 'Bosa Porvenir' 'Bosa Piamonte' 'Andes Norte' 'Venecia'\n",
      " 'La Merced' 'San Diego' 'Libertador' 'Las Ferias' 'Santa Librada'\n",
      " 'Galerias' 'Gratamira' 'Alameda' 'San Cipriano' 'Cerros De Suba'\n",
      " 'Quiroga' 'Roma' 'La Estanzuela' 'La Sabana' 'Patio Bonito' 'Turingia'\n",
      " 'Las Cruces' 'Lago De Suba' 'Zona Franca' 'Ingles' 'El Castillo'\n",
      " 'Las Delicias' 'Verbenal' 'El Tunal' 'Santa Maria Del Lago' 'El Progreso'\n",
      " 'Prado Veraniego']\n"
     ]
    }
   ],
   "source": [
    "barrios_unicos = df_colombia_bogota_limpio['Barrio'].unique()\n",
    "print(barrios_unicos)"
   ]
  },
  {
   "cell_type": "code",
   "execution_count": 37,
   "metadata": {},
   "outputs": [],
   "source": [
    "# Borrar las zonas de la columna 'Descripcion'\n",
    "#for zona in barrios_unicos:\n",
    "#    df_colombia_bogota_limpio['Descripcion'] = df_colombia_bogota_limpio['Descripcion'].str.replace(zona, '')\n",
    "\n",
    "# Mostrar el DataFrame actualizado\n",
    "#print(df_colombia_bogota_limpio)"
   ]
  },
  {
   "cell_type": "code",
   "execution_count": 38,
   "metadata": {},
   "outputs": [],
   "source": [
    "# Obtener todos los valores únicos en la columna 'Descripcion'\n",
    "#descripcion_unicos = df_colombia_bogota_limpio['Descripcion'].unique()\n",
    "\n",
    "# Mostrar los valores únicos en 'Descripcion'\n",
    "#print(descripcion_unicos)"
   ]
  },
  {
   "cell_type": "code",
   "execution_count": 40,
   "metadata": {},
   "outputs": [],
   "source": [
    "df_colombia_bogota_limpio.to_csv('../data/colombia_bogota_limpio.csv', index=False, sep=';')"
   ]
  }
 ],
 "metadata": {
  "kernelspec": {
   "display_name": "Python 3",
   "language": "python",
   "name": "python3"
  },
  "language_info": {
   "codemirror_mode": {
    "name": "ipython",
    "version": 3
   },
   "file_extension": ".py",
   "mimetype": "text/x-python",
   "name": "python",
   "nbconvert_exporter": "python",
   "pygments_lexer": "ipython3",
   "version": "3.10.7"
  }
 },
 "nbformat": 4,
 "nbformat_minor": 2
}
